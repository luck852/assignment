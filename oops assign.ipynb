{
 "cells": [
  {
   "cell_type": "code",
   "execution_count": 3,
   "id": "e62a9a88-fc67-4908-ab5e-d04dee309343",
   "metadata": {},
   "outputs": [
    {
     "name": "stdout",
     "output_type": "stream",
     "text": [
      "<class '__main__.almalbetter'>\n"
     ]
    }
   ],
   "source": [
    "# A class is like an object constructer or a blue print for creating objects.\n",
    "class almalbetter:\n",
    "    x='butterfly'\n",
    "    print(almalbetter)"
   ]
  },
  {
   "cell_type": "code",
   "execution_count": 4,
   "id": "191337a8-110d-4a25-909a-d5968ea085ad",
   "metadata": {},
   "outputs": [],
   "source": [
    "# four pillars of oops is inheritance, polymorphism,Encapsulation and Abstraction."
   ]
  },
  {
   "cell_type": "code",
   "execution_count": null,
   "id": "e4b322d5-02fb-4ab9-8dbb-b8aebcec2863",
   "metadata": {},
   "outputs": [],
   "source": [
    "# __init__is used is python because it is the core of oop and is required to create objects."
   ]
  },
  {
   "cell_type": "code",
   "execution_count": 4,
   "id": "59146369-9df4-49d3-9e8f-23dc460c7411",
   "metadata": {},
   "outputs": [],
   "source": [
    "class person:\n",
    "    \n",
    "    def __init__(self,name):\n",
    "        \n",
    "        self.name= name\n",
    "    def say_hi(self):\n",
    "        print ('my name is ',self.name)\n",
    "        \n",
    "    \n",
    "        \n",
    "    \n",
    "        \n",
    "        "
   ]
  },
  {
   "cell_type": "code",
   "execution_count": 5,
   "id": "90a5ada4-fcd5-4f73-b01c-ed09456aa146",
   "metadata": {},
   "outputs": [],
   "source": [
    "p=person('pankaj')"
   ]
  },
  {
   "cell_type": "code",
   "execution_count": 6,
   "id": "82405fad-610d-4ff1-a74b-804c0ab06ed6",
   "metadata": {},
   "outputs": [
    {
     "name": "stdout",
     "output_type": "stream",
     "text": [
      "my name is  pankaj\n"
     ]
    }
   ],
   "source": [
    "p.say_hi()"
   ]
  },
  {
   "cell_type": "code",
   "execution_count": null,
   "id": "bdcae3f6-ac94-4b0a-9fa8-1dfec9533968",
   "metadata": {},
   "outputs": [],
   "source": [
    "# the self parameter is current instance of class and used to access  variable that belongs to the class."
   ]
  },
  {
   "cell_type": "code",
   "execution_count": null,
   "id": "8984dc36-f77f-4b81-baaa-c76cae5d5a48",
   "metadata": {},
   "outputs": [],
   "source": [
    "#inheritance allows us to define a class that inherits all the methods and properties from another class.\n",
    "#Parent class is the class being inherited from, also called base class.\n",
    "#Child class is the class that inherits from another class, also called derived class."
   ]
  }
 ],
 "metadata": {
  "kernelspec": {
   "display_name": "Python 3 (ipykernel)",
   "language": "python",
   "name": "python3"
  },
  "language_info": {
   "codemirror_mode": {
    "name": "ipython",
    "version": 3
   },
   "file_extension": ".py",
   "mimetype": "text/x-python",
   "name": "python",
   "nbconvert_exporter": "python",
   "pygments_lexer": "ipython3",
   "version": "3.10.8"
  }
 },
 "nbformat": 4,
 "nbformat_minor": 5
}
